{
  "nbformat": 4,
  "nbformat_minor": 0,
  "metadata": {
    "kernelspec": {
      "display_name": "Python 3",
      "language": "python",
      "name": "python3"
    },
    "language_info": {
      "codemirror_mode": {
        "name": "ipython",
        "version": 3
      },
      "file_extension": ".py",
      "mimetype": "text/x-python",
      "name": "python",
      "nbconvert_exporter": "python",
      "pygments_lexer": "ipython3",
      "version": "3.7.4"
    },
    "colab": {
      "name": "Laser-emb-Vazha.ipynb",
      "provenance": [],
      "toc_visible": true
    }
  },
  "cells": [
    {
      "cell_type": "markdown",
      "metadata": {
        "id": "FpQJlFEPW32u",
        "colab_type": "text"
      },
      "source": [
        "---------------------"
      ]
    },
    {
      "cell_type": "code",
      "metadata": {
        "id": "9peL1auDW32v",
        "colab_type": "code",
        "colab": {}
      },
      "source": [
        "import pandas as pd\n",
        "\n",
        "import warnings\n",
        "from IPython.core.interactiveshell import InteractiveShell\n",
        "warnings.filterwarnings('ignore')\n",
        "InteractiveShell.ast_node_interactivity = \"all\"\n",
        "from sklearn.utils import shuffle\n",
        "from sklearn.preprocessing import normalize\n",
        "\n",
        "from laserembeddings import Laser\n",
        "\n",
        "from sklearn.neighbors import BallTree \n",
        "from sklearn.base import BaseEstimator\n",
        "from sklearn.neighbors import KDTree\n",
        "from sklearn.pipeline import make_pipeline\n",
        "import telebot"
      ],
      "execution_count": 0,
      "outputs": []
    },
    {
      "cell_type": "markdown",
      "metadata": {
        "id": "V_PJNCDrW321",
        "colab_type": "text"
      },
      "source": [
        "---------"
      ]
    },
    {
      "cell_type": "markdown",
      "metadata": {
        "id": "qisCfirbW322",
        "colab_type": "text"
      },
      "source": [
        "# Data Loading"
      ]
    },
    {
      "cell_type": "code",
      "metadata": {
        "id": "zOqj33TzW323",
        "colab_type": "code",
        "colab": {}
      },
      "source": [
        "allSet = pd.read_csv('two_chats_df_train.csv') \n",
        "kino = pd.read_csv('kino.csv', sep=',')\n",
        "bigData = allSet.append(kino)\n",
        "bigData = shuffle(bigData)\n",
        "bigData = bigData.reset_index(drop=True)"
      ],
      "execution_count": 0,
      "outputs": []
    },
    {
      "cell_type": "markdown",
      "metadata": {
        "id": "SO6HfyYVW327",
        "colab_type": "text"
      },
      "source": [
        "# LASER embeddings"
      ]
    },
    {
      "cell_type": "code",
      "metadata": {
        "id": "jChnw49wW328",
        "colab_type": "code",
        "colab": {}
      },
      "source": [
        "class myVectorizer_Laser(object):\n",
        "    def fit(self, X):\n",
        "        self.laser = Laser()\n",
        "        return self\n",
        "    def transform(self, X):\n",
        "        return normalize(self.laser.embed_sentences(X, lang='ru'), norm='l2')"
      ],
      "execution_count": 0,
      "outputs": []
    },
    {
      "cell_type": "code",
      "metadata": {
        "id": "nqqaUouGW33A",
        "colab_type": "code",
        "colab": {
          "base_uri": "https://localhost:8080/",
          "height": 33
        },
        "outputId": "61b8ce11-8b4c-4dac-dfaf-8e85cdfd8518"
      },
      "source": [
        "vectorizer = myVectorizer_Laser()\n",
        "vectorizer.fit(bigData.Context)\n",
        "Martix = vectorizer.transform(bigData.Context)"
      ],
      "execution_count": 6,
      "outputs": [
        {
          "output_type": "execute_result",
          "data": {
            "text/plain": [
              "<__main__.myVectorizer_Laser at 0x7fd3f794c438>"
            ]
          },
          "metadata": {
            "tags": []
          },
          "execution_count": 6
        }
      ]
    },
    {
      "cell_type": "code",
      "metadata": {
        "id": "ZkRw41s0W33G",
        "colab_type": "code",
        "colab": {
          "base_uri": "https://localhost:8080/",
          "height": 33
        },
        "outputId": "26231373-1c05-4cd4-f41b-ed4715af05da"
      },
      "source": [
        "Martix.shape"
      ],
      "execution_count": 7,
      "outputs": [
        {
          "output_type": "execute_result",
          "data": {
            "text/plain": [
              "(104670, 1024)"
            ]
          },
          "metadata": {
            "tags": []
          },
          "execution_count": 7
        }
      ]
    },
    {
      "cell_type": "markdown",
      "metadata": {
        "id": "wX3LQGchW33L",
        "colab_type": "text"
      },
      "source": [
        "--------"
      ]
    },
    {
      "cell_type": "markdown",
      "metadata": {
        "id": "NveH6ZnSW33L",
        "colab_type": "text"
      },
      "source": [
        "# Ranking & Pipeline"
      ]
    },
    {
      "cell_type": "code",
      "metadata": {
        "id": "P4thAEF0W33M",
        "colab_type": "code",
        "colab": {}
      },
      "source": [
        "def softmax(x):\n",
        "    proba = np.exp(-x)\n",
        "    return proba / sum(proba)"
      ],
      "execution_count": 0,
      "outputs": []
    },
    {
      "cell_type": "code",
      "metadata": {
        "id": "jc25rYo1W33Q",
        "colab_type": "code",
        "colab": {}
      },
      "source": [
        "class Neighbors(BaseEstimator):\n",
        "    def __init__(self, k=9, radius = 0.01):\n",
        "        self.k = k\n",
        "        self.radius = radius\n",
        "    \n",
        "    def fit(self, X, y):\n",
        "        self.tree_ = KDTree(X, metric='euclidean')\n",
        "        self.y_ = np.array(y)\n",
        "        \n",
        "    def predict(self, X, random_state = None):\n",
        "        dist, ind = self.tree_.query(X, return_distance = True, k = self.k)\n",
        "        result = []\n",
        "        \n",
        "        print('measure:',dist)\n",
        "        print('--------')\n",
        "        print('indexes of relevant answers:',ind)\n",
        "        for d, i in zip(dist, ind):\n",
        "            result.append(np.random.choice(i, p = softmax(d * self.radius)))\n",
        "            \n",
        "        return print('relevant answers', self.y_[ind])"
      ],
      "execution_count": 0,
      "outputs": []
    },
    {
      "cell_type": "code",
      "metadata": {
        "id": "CnTZ7cg_W33U",
        "colab_type": "code",
        "colab": {}
      },
      "source": [
        "ns = Neighbors()\n",
        "ns.fit(Martix, bigData.Response)"
      ],
      "execution_count": 0,
      "outputs": []
    },
    {
      "cell_type": "code",
      "metadata": {
        "id": "Clb9zBaAW33Y",
        "colab_type": "code",
        "colab": {}
      },
      "source": [
        "pipe = make_pipeline(vectorizer, ns)"
      ],
      "execution_count": 0,
      "outputs": []
    },
    {
      "cell_type": "code",
      "metadata": {
        "id": "mDAjn2Y_W33d",
        "colab_type": "code",
        "colab": {
          "base_uri": "https://localhost:8080/",
          "height": 134
        },
        "outputId": "2269e888-7c1c-480f-e905-7b0a4a1757b3"
      },
      "source": [
        "pipe.predict(['какой фотоаппарат лучше купить?'])"
      ],
      "execution_count": 31,
      "outputs": [
        {
          "output_type": "stream",
          "text": [
            "measure: [[0.56291434 0.7309298  0.7309298  0.7309298  0.7343525  0.73694703\n",
            "  0.73994138 0.74614302 0.75308905]]\n",
            "--------\n",
            "indexes of relevant answers: [[65646 57979 80509 35009 28500 88009 82628 65676 38355]]\n",
            "relevant answers [['однозначно кэнон но если ты извращенец бери зенит'\n",
            "  'Но я не про засветки' 'ф80' 'Canon FTb' 'Espio 160' 'ю8'\n",
            "  'canon eos 30' 'никон фг20' 'Toyo Field 45A II']]\n"
          ],
          "name": "stdout"
        }
      ]
    },
    {
      "cell_type": "markdown",
      "metadata": {
        "id": "JcOHMDoMW33h",
        "colab_type": "text"
      },
      "source": [
        "-------"
      ]
    },
    {
      "cell_type": "markdown",
      "metadata": {
        "id": "id0wG2UQW33h",
        "colab_type": "text"
      },
      "source": [
        "# Demo Telegram Bot"
      ]
    },
    {
      "cell_type": "code",
      "metadata": {
        "id": "1pLZgFYoW33j",
        "colab_type": "code",
        "colab": {}
      },
      "source": [
        "token='#####################'\n",
        "continueNPlus1=True\n",
        "bot = telebot.TeleBot(token)"
      ],
      "execution_count": 0,
      "outputs": []
    },
    {
      "cell_type": "code",
      "metadata": {
        "id": "iEf3py7YW33m",
        "colab_type": "code",
        "colab": {}
      },
      "source": [
        "@bot.message_handler(commands=['start'])\n",
        "def start_message(message):\n",
        "    bot.send_message(message.chat.id, 'привет, хозяева! привет все!')"
      ],
      "execution_count": 0,
      "outputs": []
    },
    {
      "cell_type": "code",
      "metadata": {
        "id": "CuNSn2FxW33q",
        "colab_type": "code",
        "colab": {}
      },
      "source": [
        "@bot.message_handler(func=lambda message: True)\n",
        "def eho_all(message):\n",
        "    bot.reply_to(message, pipe.predict([message.text]))"
      ],
      "execution_count": 0,
      "outputs": []
    },
    {
      "cell_type": "code",
      "metadata": {
        "id": "QRfQK5zJW33u",
        "colab_type": "code",
        "colab": {}
      },
      "source": [
        "bot.polling()"
      ],
      "execution_count": 0,
      "outputs": []
    }
  ]
}